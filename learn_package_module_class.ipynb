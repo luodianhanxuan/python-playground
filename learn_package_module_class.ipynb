{
 "cells": [
  {
   "cell_type": "markdown",
   "metadata": {
    "collapsed": true,
    "pycharm": {
     "name": "#%% md\n"
    }
   },
   "source": [
    "### Python 项目中的组织架构图：\n",
    "![](https://img-blog.csdnimg.cn/2018122200075313.jpg?x-oss-process=image/watermark,type_ZmFuZ3poZW5naGVpdGk,shadow_10,text_aHR0cHM6Ly9ibG9nLmNzZG4ubmV0L3FxXzM5MzE0OTMy,size_16,color_FFFFFF,t_70)"
   ],
   "outputs": [],
   "execution_count": 1
  },
  {
   "cell_type": "markdown",
   "source": [
    "#### 模块：\n",
    "- 模块就是非常简单的 Python 文件，单个 Python 文件就是一个默亏啊，两个文件就是两个模块。\n",
    "- 模块可以帮助有逻辑地组织 Python 代码段。把相关的代码分配到一个模块中能让代码更整洁，更易懂。模块能定义函数，类和变量，模块里也能包含可执行的代码。\n",
    "- 若需要在某个 py 文件中使用其他文件中的函数或类，则需要导入对应的模块，就可以重用这些函数和变量。"
   ],
   "metadata": {
    "collapsed": false,
    "pycharm": {
     "name": "#%% md\n"
    }
   }
  },
  {
   "cell_type": "code",
   "source": [
    "import random\n",
    "\n",
    "Fruit = random.choice(['apple', 'pear', 'banana'])\n",
    "\n",
    "print(Fruit)"
   ],
   "metadata": {
    "collapsed": false,
    "pycharm": {
     "name": "#%%\n"
    }
   },
   "execution_count": 2,
   "outputs": [
    {
     "name": "stdout",
     "output_type": "stream",
     "text": [
      "pear\n"
     ]
    }
   ]
  },
  {
   "cell_type": "code",
   "execution_count": 3,
   "outputs": [
    {
     "name": "stdout",
     "output_type": "stream",
     "text": [
      "apple\n"
     ]
    }
   ],
   "source": [
    "from random import choice\n",
    "\n",
    "Fruit = choice(['apple', 'pear', 'banana'])\n",
    "\n",
    "print(Fruit)\n"
   ],
   "metadata": {
    "collapsed": false,
    "pycharm": {
     "name": "#%%\n"
    }
   }
  },
  {
   "cell_type": "markdown",
   "source": [
    "#### 包：\n",
    "- 包可以理解为文件夹，这个文件夹下面放着很多模块。包的作用其实就是将代码文件给整合到一个文件夹下面，方便调用和管理。\n",
    "- 包是一个分层次的文件目录结构，它定义了一个由模块及子包，和子包下面的子包等组成的 Python 的应用环境。简单来说，包就是文件夹，但该文件夹下必须存在\n",
    "\\_\\_init__.py 文件，该文件的内容可以为空。\\_\\_init__.py 用于标识当前文件夹是一个包。\n",
    "- 包的命名和文件夹命名一样。那 Python 如何识别普通的文件夹与包？包有一个标识文件，叫做 \\_\\_init__.py，假如一个文件夹中有这个文件（模块），那么\n",
    "Python就会认为这个文件夹是一个包\n",
    "- 在调用包中的模块后，会发现在文件夹中生成了一个文件夹 \\_\\_pychache__，不需要理会它，是用于加快 Python 执行速度用的。\n"
   ],
   "metadata": {
    "collapsed": false
   }
  },
  {
   "cell_type": "markdown",
   "source": [
    "#### 搜索路径：\n",
    "\n",
    "python 模块的导入需要一个路径搜索的过程。当你导入一个模块，Python 解析器对模块位置的搜索顺序是：\n",
    "1. 当前目录\n",
    "2. 如果不在当前目录，Python 则搜索在 shell 变量 PYTHONPATH 下的每个目录。\n",
    "3. 如果都找不到，Python 会查看默认路径。Unix 下，默认路径一般为 /usr/local/lib/python/。\n",
    "\n",
    "模块搜索路径存储在 system 模块的 sys.path 变量中。变量里包含当前目录，PYTHONPATH 和由安装过程决定的默认目录。"
   ],
   "metadata": {
    "collapsed": false,
    "pycharm": {
     "name": "#%% md\n"
    }
   }
  },
  {
   "cell_type": "code",
   "execution_count": 4,
   "outputs": [
    {
     "name": "stdout",
     "output_type": "stream",
     "text": [
      "['/Users/wangjg/workspace/python/playground', '/Users/wangjg/workspace/python/playground', '/Library/Frameworks/Python.framework/Versions/3.9/lib/python39.zip', '/Library/Frameworks/Python.framework/Versions/3.9/lib/python3.9', '/Library/Frameworks/Python.framework/Versions/3.9/lib/python3.9/lib-dynload', '', '/Users/wangjg/venv/lib/python3.9/site-packages', '/Users/wangjg/venv/lib/python3.9/site-packages/aeosa', '/Users/wangjg/workspace/superset', '/Users/wangjg/workspace/iquantex/python/jupyterlab', '/Users/wangjg/Library/Python/3.9/lib/python/site-packages', '/Library/Frameworks/Python.framework/Versions/3.9/lib/python3.9/site-packages', '/Library/Frameworks/Python.framework/Versions/3.9/lib/python3.9/site-packages/aeosa', '/Users/wangjg/venv/lib/python3.9/site-packages/IPython/extensions', '/Users/wangjg/.ipython', '/Applications/PyCharm.app/Contents/plugins/python/helpers/pydev', '/Applications/PyCharm.app/Contents/plugins/python/helpers-pro/jupyter_debug']\n"
     ]
    }
   ],
   "source": [
    "# 查看 python 的搜索路径\n",
    "\n",
    "import sys\n",
    "\n",
    "print(sys.path)"
   ],
   "metadata": {
    "collapsed": false,
    "pycharm": {
     "name": "#%%\n"
    }
   }
  },
  {
   "cell_type": "markdown",
   "source": [
    "#### 导入包中的函数\n",
    "\n",
    "```text\n",
    "from 包名.模块名 import 函数名(若包名没有在默认搜索路径下，则还需要加上其路径)\n",
    "\n",
    "from selenium.webdriver.common import utils\n",
    "```"
   ],
   "metadata": {
    "collapsed": false,
    "pycharm": {
     "name": "#%% md\n"
    }
   }
  },
  {
   "cell_type": "markdown",
   "source": [
    "### 总结：\n",
    "- 容器：例如列表、元组、字符串、字典等，这些是对数据的封装\n",
    "- 函数：是对语句的封装\n",
    "- 类/对象：是对方法和属性的封装，也就是对函数和数据的封装\n",
    "- 模块：模块就是程序，就是写的任意代码，保存在每一个 .py 结尾的文件，该文件就是一个独立的模块（模块的名字就是 py 文件的名字）\n",
    "- 包：方便管理多个模块"
   ],
   "metadata": {
    "collapsed": false,
    "pycharm": {
     "name": "#%% md\n"
    }
   }
  }
 ],
 "metadata": {
  "kernelspec": {
   "display_name": "Python 3",
   "language": "python",
   "name": "python3"
  },
  "language_info": {
   "codemirror_mode": {
    "name": "ipython",
    "version": 2
   },
   "file_extension": ".py",
   "mimetype": "text/x-python",
   "name": "python",
   "nbconvert_exporter": "python",
   "pygments_lexer": "ipython2",
   "version": "2.7.6"
  }
 },
 "nbformat": 4,
 "nbformat_minor": 0
}