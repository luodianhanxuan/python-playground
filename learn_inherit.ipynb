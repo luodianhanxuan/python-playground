{
 "cells": [
  {
   "cell_type": "markdown",
   "metadata": {
    "collapsed": true,
    "pycharm": {
     "name": "#%% md\n"
    }
   },
   "source": [
    "### 一、什么是继承\n",
    "继承就是让类和类之间变为父子关系，子类可以直接访问（调用）父类的静态属性和方法。在 python 中，\n",
    "新建的类可以继承一个或多个父类，父类又可称为基类或者派生类。"
   ]
  },
  {
   "cell_type": "code",
   "execution_count": 1,
   "outputs": [
    {
     "data": {
      "text/plain": "(__main__.ParentClass1, __main__.ParentClass2)"
     },
     "execution_count": 1,
     "metadata": {},
     "output_type": "execute_result"
    }
   ],
   "source": [
    "class ParentClass1:  #定义父类1\n",
    "    pass\n",
    "\n",
    "\n",
    "class ParentClass2:  #定义父类2\n",
    "    pass\n",
    "\n",
    "\n",
    "class SubClass1(ParentClass1):\n",
    "    # 单继承，基类是ParentClass1，派生类是SubClass\n",
    "    pass\n",
    "\n",
    "\n",
    "class SubClass2(ParentClass1, ParentClass2):\n",
    "    # python支持多继承，用逗号分隔开多个继承的类\n",
    "    pass"
   ],
   "metadata": {
    "collapsed": false,
    "pycharm": {
     "name": "#%%\n"
    }
   }
  },
  {
   "cell_type": "code",
   "execution_count": 2,
   "outputs": [
    {
     "data": {
      "text/plain": "(__main__.ParentClass1,)"
     },
     "execution_count": 2,
     "metadata": {},
     "output_type": "execute_result"
    }
   ],
   "source": [
    "SubClass1.__bases__  # 查看所有继承的父类"
   ],
   "metadata": {
    "collapsed": false,
    "pycharm": {
     "name": "#%%\n"
    }
   }
  },
  {
   "cell_type": "code",
   "execution_count": 3,
   "outputs": [
    {
     "data": {
      "text/plain": "(__main__.ParentClass1, __main__.ParentClass2)"
     },
     "execution_count": 3,
     "metadata": {},
     "output_type": "execute_result"
    }
   ],
   "source": [
    "SubClass2.__bases__"
   ],
   "metadata": {
    "collapsed": false,
    "pycharm": {
     "name": "#%%\n"
    }
   }
  },
  {
   "cell_type": "markdown",
   "source": [
    "### 二、继承的规则\n",
    "1. 子类继承父类的成员变量和成员方法\n",
    "2. 子类不继承父类的构造方法，能够继承父类的析构方法\n",
    "3. 子类不能删除父类的成员，但可以重定义父类成员\n",
    "4. 子类可以增加自己的成员"
   ],
   "metadata": {
    "collapsed": false,
    "pycharm": {
     "name": "#%% md\n"
    }
   }
  },
  {
   "cell_type": "code",
   "execution_count": 12,
   "outputs": [
    {
     "name": "stdout",
     "output_type": "stream",
     "text": [
      "jasn\n",
      "11\n",
      "chinese\n",
      "我说的是普通话！！\n",
      "i want to speak something to yo!!\n"
     ]
    }
   ],
   "source": [
    "\n",
    "# python中子类继承父类成员变量之间的取值逻辑\n",
    "\n",
    "class Person():\n",
    "\n",
    "    def __init__(self, name, age, sex):\n",
    "        self.name = \"jasn\"\n",
    "        self.age = '18'\n",
    "        self.sex = sex\n",
    "\n",
    "    def talk(self):\n",
    "        print(\"i want to speak something to yo!!\")\n",
    "\n",
    "\n",
    "class Chinese(Person):\n",
    "    def __init__(self, name, age, sex, language):\n",
    "        Person.__init__(self, name, age, sex)  # 用父类的name,age，sex 覆盖掉子类的属性\n",
    "        self.age = age  # 覆盖掉了父类的 age,取值为子类实例中传入age参数\n",
    "        self.language = \"chinese\"\n",
    "\n",
    "    def talk(self):\n",
    "        print(\"我说的是普通话！！\")\n",
    "        Person.talk(self)\n",
    "\n",
    "\n",
    "obj = Chinese(\"nancy\", '11', 'male', \"普通话\")\n",
    "\n",
    "print(obj.name)  # 对应场景A\n",
    "print(obj.age)  # 对应场景B\n",
    "print(obj.language)  # 对应场景C\n",
    "obj.talk()  # 对应场景D\n",
    "\n",
    "# 总结：\n",
    "# A:若父类中初始化了成员变量，子类调用父类构造方法未覆盖属性（self.name），则调用子类属性时取值为父类中初始化的成员变量；\n",
    "# B:若父类中初始化了成员变量，若子类调用父类构造方法覆盖属性（self.age）则取值为子类实例中传入参数\n",
    "# C:若父类未初始化该成员变量，则无论子类中有无进行对父类构造方法进行属性的覆盖，均取子类实例中传入的参数\n",
    "# D:对于方法,如果子类有这个方法则直接调用，如果子类没有则去父类查找。父类没有则报错"
   ],
   "metadata": {
    "collapsed": false,
    "pycharm": {
     "name": "#%%\n"
    }
   }
  },
  {
   "cell_type": "markdown",
   "source": [
    "### 三、继承的查找顺序\n",
    "python 到底是如何实现继承的，对于你定义的每一个类， python 回计算出一个方法解析顺序（MRO）列表，\n",
    "这个 MRO 列表就是一个简单的所有基类的线性顺序列表，例如\n",
    "#### 深度优先\n",
    "![](https://img-blog.csdnimg.cn/20200306212030359.png?x-oss-process=image/watermark,type_ZmFuZ3poZW5naGVpdGk,shadow_10,text_aHR0cHM6Ly9ibG9nLmNzZG4ubmV0L3dlaXhpbl80MjQ0NDY5Mw==,size_16,color_FFFFFF,t_70#pic_center)\n",
    "\n",
    "```text\n",
    "当类是经典类时候，多继承情况下，在要查找的属性不存在，会按照深度优先方式查找下去。\n",
    "```\n",
    "#### 广度优先\n",
    "\n",
    "![](https://img-blog.csdnimg.cn/2020030621221088.png?x-oss-process=image/watermark,type_ZmFuZ3poZW5naGVpdGk,shadow_10,text_aHR0cHM6Ly9ibG9nLmNzZG4ubmV0L3dlaXhpbl80MjQ0NDY5Mw==,size_16,color_FFFFFF,t_70#pic_center)\n",
    "\n",
    "```text\n",
    "当类是新式类（python3中只有新式类），多继承情况下，再要查找属性不存在时，会按照广度优先的方式查找下去\n",
    "```"
   ],
   "metadata": {
    "collapsed": false,
    "pycharm": {
     "name": "#%% md\n"
    }
   }
  },
  {
   "cell_type": "code",
   "execution_count": 21,
   "outputs": [
    {
     "name": "stdout",
     "output_type": "stream",
     "text": [
      "G中的test\n",
      "(<class '__main__.F'>, <class '__main__.A'>, <class 'object'>)\n"
     ]
    }
   ],
   "source": [
    "''''\n",
    "当类是新式类，多继承的情况下，在要查找的属性不存在时，会按照广度优先来查找\n",
    "默认从左侧分支查找，如 ：class G(D,E,F):会先从 D 的分支查找 找到 D-C 然后从E-B -F 顺序查找\n",
    "最后再查找 几个类所共同继承的顶级父类，如果顶级没有，则报错\n",
    "'''\n",
    "\n",
    "\n",
    "class A:\n",
    "    def test(self):\n",
    "        print('A中的test')\n",
    "\n",
    "\n",
    "class B(A):\n",
    "    def test(self):\n",
    "        print('B中的test')\n",
    "\n",
    "\n",
    "class C(A):\n",
    "    def test(self):\n",
    "        print('C中的test')\n",
    "\n",
    "\n",
    "class D(C):\n",
    "    def test(self):\n",
    "        print('D中的test')\n",
    "\n",
    "\n",
    "class E(B):\n",
    "    def test(self):\n",
    "        print('E中的test')\n",
    "\n",
    "\n",
    "class F(A):\n",
    "    def test(self):\n",
    "        print('F中的test')\n",
    "\n",
    "\n",
    "class G(D, E, F):\n",
    "    def test(self):\n",
    "        print('G中的test')\n",
    "\n",
    "\n",
    "obj = G()\n",
    "obj.test()\n",
    "\n",
    "'''\n",
    "第一次 E中的test\n",
    "注释D，第二次：C中的test\n",
    "注释C，第三次：E中的test\n",
    "注释E，第四次：B中的test\n",
    "注释B，第五次，F中的test\n",
    "注释F，第六次，A中的test\n",
    "\n",
    "所以新式类的继承关系（查找顺序）为:\n",
    "obj-->G --> D-->C -->E -->B -->F -->A\n",
    "也称广度优先\n",
    "\n",
    "'''\n",
    "print(F.__mro__)  #只有新式才有这个属性可以查看线性列表，经典类没有这个属性\n",
    "\n",
    "#新式类继承顺序:F->D->B->E->C->A\n",
    "#经典类继承顺序:F->D->B->A->E->C\n",
    "#python3中统一都是新式类\n",
    "#pyhon2中才分新式类与经典类 class A(object) 为经典类"
   ],
   "metadata": {
    "collapsed": false,
    "pycharm": {
     "name": "#%%\n"
    }
   }
  },
  {
   "cell_type": "markdown",
   "source": [
    "### 四、类属性的继承规则\n",
    "1. 如果父类中有该属性，则子类会继承该属性\n",
    "2. 如果子类没有覆写该属性值，则子类的该属性值等于父类的该属性值\n",
    "3. 如果子类赋写了该属性值，则子类的该属性值等于父类的该属性值"
   ],
   "metadata": {
    "collapsed": false,
    "pycharm": {
     "name": "#%% md\n"
    }
   }
  },
  {
   "cell_type": "code",
   "execution_count": 24,
   "outputs": [
    {
     "name": "stdout",
     "output_type": "stream",
     "text": [
      "学校统称\n"
     ]
    }
   ],
   "source": [
    "class School:\n",
    "    name = \"学校统称\"\n",
    "\n",
    "class Qiseguang(School):\n",
    "    pass\n",
    "\n",
    "print(Qiseguang.name)"
   ],
   "metadata": {
    "collapsed": false,
    "pycharm": {
     "name": "#%%\n"
    }
   }
  },
  {
   "cell_type": "code",
   "execution_count": null,
   "outputs": [],
   "source": [],
   "metadata": {
    "collapsed": false,
    "pycharm": {
     "name": "#%%\n"
    }
   }
  },
  {
   "cell_type": "code",
   "execution_count": 25,
   "outputs": [
    {
     "name": "stdout",
     "output_type": "stream",
     "text": [
      "七色光\n"
     ]
    }
   ],
   "source": [
    "class School:\n",
    "    name = \"学校统称\"\n",
    "\n",
    "class Qiseguang(School):\n",
    "    name = \"七色光\"\n",
    "\n",
    "print(Qiseguang.name)\n",
    "\n"
   ],
   "metadata": {
    "collapsed": false,
    "pycharm": {
     "name": "#%%\n"
    }
   }
  }
 ],
 "metadata": {
  "kernelspec": {
   "display_name": "Python 3",
   "language": "python",
   "name": "python3"
  },
  "language_info": {
   "codemirror_mode": {
    "name": "ipython",
    "version": 2
   },
   "file_extension": ".py",
   "mimetype": "text/x-python",
   "name": "python",
   "nbconvert_exporter": "python",
   "pygments_lexer": "ipython2",
   "version": "2.7.6"
  }
 },
 "nbformat": 4,
 "nbformat_minor": 0
}